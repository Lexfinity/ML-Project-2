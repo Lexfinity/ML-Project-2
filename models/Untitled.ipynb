{
 "cells": [
  {
   "cell_type": "code",
   "execution_count": 3,
   "metadata": {},
   "outputs": [
    {
     "name": "stdout",
     "output_type": "stream",
     "text": [
      "\u001b[33mDEPRECATION: Python 2.7 will reach the end of its life on January 1st, 2020. Please upgrade your Python as Python 2.7 won't be maintained after that date. A future version of pip will drop support for Python 2.7.\u001b[0m\n",
      "Requirement already satisfied: keras in /Users/ethanitovitch/anaconda3/lib/python2.7/site-packages (2.3.1)\n",
      "Requirement already satisfied: keras-applications>=1.0.6 in /Users/ethanitovitch/anaconda3/lib/python2.7/site-packages (from keras) (1.0.7)\n",
      "Requirement already satisfied: h5py in /Users/ethanitovitch/anaconda3/lib/python2.7/site-packages (from keras) (2.9.0)\n",
      "Requirement already satisfied: pyyaml in /Users/ethanitovitch/anaconda3/lib/python2.7/site-packages (from keras) (5.1)\n",
      "Requirement already satisfied: numpy>=1.9.1 in /Users/ethanitovitch/anaconda3/lib/python2.7/site-packages (from keras) (1.16.2)\n",
      "Requirement already satisfied: scipy>=0.14 in /Users/ethanitovitch/anaconda3/lib/python2.7/site-packages (from keras) (1.2.1)\n",
      "Requirement already satisfied: keras-preprocessing>=1.0.5 in /Users/ethanitovitch/anaconda3/lib/python2.7/site-packages (from keras) (1.0.9)\n",
      "Requirement already satisfied: six>=1.9.0 in /Users/ethanitovitch/anaconda3/lib/python2.7/site-packages (from keras) (1.12.0)\n",
      "\u001b[33mDEPRECATION: Python 2.7 will reach the end of its life on January 1st, 2020. Please upgrade your Python as Python 2.7 won't be maintained after that date. A future version of pip will drop support for Python 2.7.\u001b[0m\n",
      "Requirement already satisfied: tensorflow in /Users/ethanitovitch/anaconda3/lib/python2.7/site-packages (1.13.1)\n",
      "Requirement already satisfied: grpcio>=1.8.6 in /Users/ethanitovitch/anaconda3/lib/python2.7/site-packages (from tensorflow) (1.16.1)\n",
      "Requirement already satisfied: tensorflow-estimator<1.14.0rc0,>=1.13.0 in /Users/ethanitovitch/anaconda3/lib/python2.7/site-packages (from tensorflow) (1.13.0)\n",
      "Requirement already satisfied: keras-applications>=1.0.6 in /Users/ethanitovitch/anaconda3/lib/python2.7/site-packages (from tensorflow) (1.0.7)\n",
      "Requirement already satisfied: mock>=2.0.0 in /Users/ethanitovitch/anaconda3/lib/python2.7/site-packages (from tensorflow) (2.0.0)\n",
      "Requirement already satisfied: numpy>=1.13.3 in /Users/ethanitovitch/anaconda3/lib/python2.7/site-packages (from tensorflow) (1.16.2)\n",
      "Requirement already satisfied: termcolor>=1.1.0 in /Users/ethanitovitch/anaconda3/lib/python2.7/site-packages (from tensorflow) (1.1.0)\n",
      "Requirement already satisfied: wheel in /Users/ethanitovitch/anaconda3/lib/python2.7/site-packages (from tensorflow) (0.33.1)\n",
      "Requirement already satisfied: tensorboard<1.14.0,>=1.13.0 in /Users/ethanitovitch/anaconda3/lib/python2.7/site-packages (from tensorflow) (1.13.1)\n",
      "Requirement already satisfied: backports.weakref>=1.0rc1 in /Users/ethanitovitch/anaconda3/lib/python2.7/site-packages (from tensorflow) (1.0.post1)\n",
      "Requirement already satisfied: absl-py>=0.1.6 in /Users/ethanitovitch/anaconda3/lib/python2.7/site-packages (from tensorflow) (0.7.0)\n",
      "Requirement already satisfied: six>=1.10.0 in /Users/ethanitovitch/anaconda3/lib/python2.7/site-packages (from tensorflow) (1.12.0)\n",
      "Requirement already satisfied: protobuf>=3.6.1 in /Users/ethanitovitch/anaconda3/lib/python2.7/site-packages (from tensorflow) (3.6.1)\n",
      "Requirement already satisfied: enum34>=1.1.6 in /Users/ethanitovitch/anaconda3/lib/python2.7/site-packages (from tensorflow) (1.1.6)\n",
      "Requirement already satisfied: gast>=0.2.0 in /Users/ethanitovitch/anaconda3/lib/python2.7/site-packages (from tensorflow) (0.2.2)\n",
      "Requirement already satisfied: keras-preprocessing>=1.0.5 in /Users/ethanitovitch/anaconda3/lib/python2.7/site-packages (from tensorflow) (1.0.9)\n",
      "Requirement already satisfied: astor>=0.6.0 in /Users/ethanitovitch/anaconda3/lib/python2.7/site-packages (from tensorflow) (0.7.1)\n",
      "Requirement already satisfied: futures>=2.2.0 in /Users/ethanitovitch/anaconda3/lib/python2.7/site-packages (from grpcio>=1.8.6->tensorflow) (3.2.0)\n",
      "Requirement already satisfied: h5py in /Users/ethanitovitch/anaconda3/lib/python2.7/site-packages (from keras-applications>=1.0.6->tensorflow) (2.9.0)\n",
      "Requirement already satisfied: funcsigs>=1 in /Users/ethanitovitch/anaconda3/lib/python2.7/site-packages (from mock>=2.0.0->tensorflow) (1.0.2)\n",
      "Requirement already satisfied: pbr>=0.11 in /Users/ethanitovitch/anaconda3/lib/python2.7/site-packages (from mock>=2.0.0->tensorflow) (5.1.3)\n",
      "Requirement already satisfied: werkzeug>=0.11.15 in /Users/ethanitovitch/anaconda3/lib/python2.7/site-packages (from tensorboard<1.14.0,>=1.13.0->tensorflow) (0.14.1)\n",
      "Requirement already satisfied: markdown>=2.6.8 in /Users/ethanitovitch/anaconda3/lib/python2.7/site-packages (from tensorboard<1.14.0,>=1.13.0->tensorflow) (3.0.1)\n",
      "Requirement already satisfied: setuptools in /Users/ethanitovitch/anaconda3/lib/python2.7/site-packages (from protobuf>=3.6.1->tensorflow) (40.8.0)\n"
     ]
    }
   ],
   "source": [
    "!pip install keras\n",
    "!pip install tensorflow"
   ]
  },
  {
   "cell_type": "code",
   "execution_count": null,
   "metadata": {},
   "outputs": [],
   "source": [
    "from keras.models import Sequential\n",
    "from sklearn.model_selection import train_test_split\n",
    "from sklearn.feature_extraction.text import CountVectorizer,TfidfVectorizer\n",
    "from sklearn import preprocessing\n",
    "from sklearn.model_selection import GridSearchCV\n",
    "from sklearn.preprocessing import OneHotEncoder\n",
    "\n",
    "redditData = pd.read_csv(\"../data/reddit_train.csv\") #, sep=\"\\n\", header=None) \n",
    "redditDataTest = pd.read_csv(\"../data/reddit_test.csv\") # sep=\"\\n\", header=None)\n",
    "\n",
    "comments = redditData.iloc[:,1]\n",
    "subreddits = redditData.iloc[:,-1]\n",
    "comments = [str (item) for item in comments]\n",
    "\n",
    "tf = TfidfVectorizer(max_features=1000, stop_words='english')\n",
    "comments = tf.fit_transform(comments).toarray()\n",
    "le = preprocessing.LabelEncoder()\n",
    "subreddits = le.fit_transform(subreddits)\n",
    "\n",
    "enc = OneHotEncoder(handle_unknown='ignore')\n",
    "subreddits = enc.fit(subreddits)\n",
    "subreddits"
   ]
  },
  {
   "cell_type": "code",
   "execution_count": null,
   "metadata": {},
   "outputs": [],
   "source": [
    "# model = Sequential()\n",
    "# model.add(Embedding(1000, 100, input_length=x_train.shape[1]))\n",
    "# model.add(SpatialDropout1D(0.2))\n",
    "# model.add(LSTM(100, dropout=0.2, recurrent_dropout=0.2))\n",
    "# model.add(Dense(13, activation='softmax'))\n",
    "# model.compile(loss='categorical_crossentropy', optimizer='adam', metrics=['accuracy'])\n",
    "\n",
    "# epochs = 5\n",
    "# batch_size = 64\n",
    "\n",
    "# history = model.fit(X_train, Y_train, epochs=epochs, batch_size=batch_size,validation_split=0.1,callbacks=[EarlyStopping(monitor='val_loss', patience=3, min_delta=0.0001)])\n",
    "\n",
    "# accr = model.evaluate(X_test,Y_test)\n",
    "# print('Test set\\n  Loss: {:0.3f}\\n  Accuracy: {:0.3f}'.format(accr[0],accr[1]))\n",
    "# cmultiNB = MultiNomialNB()\n",
    "# cmultiNB.fit(x_train_v, y_train)"
   ]
  }
 ],
 "metadata": {
  "kernelspec": {
   "display_name": "Python 3",
   "language": "python",
   "name": "python3"
  },
  "language_info": {
   "codemirror_mode": {
    "name": "ipython",
    "version": 2
   },
   "file_extension": ".py",
   "mimetype": "text/x-python",
   "name": "python",
   "nbconvert_exporter": "python",
   "pygments_lexer": "ipython2",
   "version": "2.7.16"
  }
 },
 "nbformat": 4,
 "nbformat_minor": 2
}
